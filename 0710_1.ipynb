{
  "nbformat": 4,
  "nbformat_minor": 0,
  "metadata": {
    "colab": {
      "provenance": [],
      "authorship_tag": "ABX9TyNafRm5z6bMDr7TcmlM+d4A",
      "include_colab_link": true
    },
    "kernelspec": {
      "name": "python3",
      "display_name": "Python 3"
    },
    "language_info": {
      "name": "python"
    }
  },
  "cells": [
    {
      "cell_type": "markdown",
      "metadata": {
        "id": "view-in-github",
        "colab_type": "text"
      },
      "source": [
        "<a href=\"https://colab.research.google.com/github/ktg6569/0710/blob/main/0710_1.ipynb\" target=\"_parent\"><img src=\"https://colab.research.google.com/assets/colab-badge.svg\" alt=\"Open In Colab\"/></a>"
      ]
    },
    {
      "cell_type": "code",
      "source": [
        "# 2. yt-dlp 설치\n",
        "!pip install yt-dlp\n",
        "\n",
        "# 원하는 유튜브 영상 다운로드\n",
        "!yt-dlp -f bestvideo+bestaudio --merge-output-format mp4 https://www.youtube.com/watch?v=tEtWnGwwCEc\n",
        "\n",
        "# 3.\n",
        "import cv2\n",
        "import yt_dlp\n",
        "import matplotlib.pyplot as plt\n",
        "import tempfile\n",
        "import os\n",
        "import time\n",
        "from IPython.display import clear_output\n",
        "\n",
        "def play_youtube_video(youtube_url, skip_frames=1):\n",
        "    \"\"\"\n",
        "    YouTube 영상을 다운로드하고 재생하는 간단한 함수\n",
        "    skip_frames: 프레임 건너뛰기 (1=모든 프레임, 2=한 프레임씩 건너뛰기)\n",
        "    \"\"\"\n",
        "\n",
        "    ydl_opts = {\n",
        "        'format': 'mp4/best[height<=480]',  # 480p로 제한 (빠른 처리)\n",
        "        'outtmpl': tempfile.gettempdir() + '/temp_video.%(ext)s',\n",
        "        'quiet': True,\n",
        "    }\n",
        "\n",
        "    try:\n",
        "        with yt_dlp.YoutubeDL(ydl_opts) as ydl:\n",
        "            print(\"⬇️ 영상 다운로드 중...\")\n",
        "            info = ydl.extract_info(youtube_url, download=True)\n",
        "\n",
        "            video_path = ydl.prepare_filename(info)\n",
        "\n",
        "            cap = cv2.VideoCapture(video_path)\n",
        "            fps = cap.get(cv2.CAP_PROP_FPS)\n",
        "            frame_count = int(cap.get(cv2.CAP_PROP_FRAME_COUNT))\n",
        "\n",
        "            print(f\"🎬 '{info['title']}' 재생 시작!\")\n",
        "            print(\"(Ctrl+C로 중단)\")\n",
        "\n",
        "            frame_num = 0\n",
        "            while True:\n",
        "                ret, frame = cap.read()\n",
        "                if not ret:\n",
        "                    break\n",
        "\n",
        "                # 프레임 건너뛰기\n",
        "                if frame_num % skip_frames == 0:\n",
        "                    clear_output(wait=True)\n",
        "                    plt.figure(figsize=(10, 6))\n",
        "                    plt.imshow(cv2.cvtColor(frame, cv2.COLOR_BGR2RGB))\n",
        "                    plt.title(f\"재생 중... ({frame_num}/{frame_count})\")\n",
        "                    plt.axis('off')\n",
        "                    plt.show()\n",
        "\n",
        "                    # 재생 속도 조절\n",
        "                    time.sleep(0.1)  # 0.1초 대기 (빠른 재생)\n",
        "\n",
        "                frame_num += 1\n",
        "\n",
        "            cap.release()\n",
        "            os.remove(video_path)\n",
        "            print(\"✅ 재생 완료!\")\n",
        "\n",
        "    except KeyboardInterrupt:\n",
        "        print(\"\\n⏹️ 재생 중단\")\n",
        "    except Exception as e:\n",
        "        print(f\"❌ 오류: {e}\")\n",
        "\n",
        "# 사용법\n",
        "youtube_url = input(\"YouTube URL: \")\n",
        "play_youtube_video(youtube_url, skip_frames=2)  # 한 프레임씩 건너뛰어 빠른 재생"
      ],
      "metadata": {
        "colab": {
          "base_uri": "https://localhost:8080/"
        },
        "id": "pwl_j1oRGzEY",
        "outputId": "c65e8fed-9626-4f62-d519-26741df706c0"
      },
      "execution_count": null,
      "outputs": [
        {
          "output_type": "stream",
          "name": "stdout",
          "text": [
            "Collecting yt-dlp\n",
            "  Downloading yt_dlp-2025.6.30-py3-none-any.whl.metadata (174 kB)\n",
            "\u001b[2K     \u001b[90m━━━━━━━━━━━━━━━━━━━━━━━━━━━━━━━━━━━━━━━\u001b[0m \u001b[32m174.3/174.3 kB\u001b[0m \u001b[31m6.1 MB/s\u001b[0m eta \u001b[36m0:00:00\u001b[0m\n",
            "\u001b[?25hDownloading yt_dlp-2025.6.30-py3-none-any.whl (3.3 MB)\n",
            "\u001b[2K   \u001b[90m━━━━━━━━━━━━━━━━━━━━━━━━━━━━━━━━━━━━━━━━\u001b[0m \u001b[32m3.3/3.3 MB\u001b[0m \u001b[31m65.6 MB/s\u001b[0m eta \u001b[36m0:00:00\u001b[0m\n",
            "\u001b[?25hInstalling collected packages: yt-dlp\n",
            "Successfully installed yt-dlp-2025.6.30\n",
            "[youtube] Extracting URL: https://www.youtube.com/watch?v=tEtWnGwwCEc\n",
            "[youtube] tEtWnGwwCEc: Downloading webpage\n",
            "[youtube] tEtWnGwwCEc: Downloading tv client config\n",
            "[youtube] tEtWnGwwCEc: Downloading player ef259203-main\n",
            "[youtube] tEtWnGwwCEc: Downloading tv player API JSON\n",
            "[youtube] tEtWnGwwCEc: Downloading ios player API JSON\n",
            "\u001b[0;31mERROR:\u001b[0m [youtube] tEtWnGwwCEc: Sign in to confirm you’re not a bot. Use --cookies-from-browser or --cookies for the authentication. See  https://github.com/yt-dlp/yt-dlp/wiki/FAQ#how-do-i-pass-cookies-to-yt-dlp  for how to manually pass cookies. Also see  https://github.com/yt-dlp/yt-dlp/wiki/Extractors#exporting-youtube-cookies  for tips on effectively exporting YouTube cookies\n",
            "YouTube URL: https://www.youtube.com/watch?v=tEtWnGwwCEc\n",
            "⬇️ 영상 다운로드 중...\n"
          ]
        },
        {
          "output_type": "stream",
          "name": "stderr",
          "text": [
            "ERROR: [youtube] tEtWnGwwCEc: Sign in to confirm you’re not a bot. Use --cookies-from-browser or --cookies for the authentication. See  https://github.com/yt-dlp/yt-dlp/wiki/FAQ#how-do-i-pass-cookies-to-yt-dlp  for how to manually pass cookies. Also see  https://github.com/yt-dlp/yt-dlp/wiki/Extractors#exporting-youtube-cookies  for tips on effectively exporting YouTube cookies\n"
          ]
        },
        {
          "output_type": "stream",
          "name": "stdout",
          "text": [
            "❌ 오류: ERROR: [youtube] tEtWnGwwCEc: Sign in to confirm you’re not a bot. Use --cookies-from-browser or --cookies for the authentication. See  https://github.com/yt-dlp/yt-dlp/wiki/FAQ#how-do-i-pass-cookies-to-yt-dlp  for how to manually pass cookies. Also see  https://github.com/yt-dlp/yt-dlp/wiki/Extractors#exporting-youtube-cookies  for tips on effectively exporting YouTube cookies\n"
          ]
        }
      ]
    },
    {
      "cell_type": "code",
      "execution_count": null,
      "metadata": {
        "colab": {
          "base_uri": "https://localhost:8080/"
        },
        "id": "xwSqGjkvGird",
        "outputId": "519eda22-1b46-4705-c0b8-ecc66b327074"
      },
      "outputs": [
        {
          "output_type": "stream",
          "name": "stdout",
          "text": [
            "📹 영상 정보: 0프레임, 0.00FPS\n",
            "🎬 차선 인식 시작! (Ctrl+C로 중단)\n",
            "📺 영상 재생 완료\n"
          ]
        }
      ],
      "source": [
        "# 4.\n",
        "import cv2\n",
        "from google.colab import files\n",
        "import matplotlib.pyplot as plt\n",
        "import numpy as np\n",
        "from IPython.display import clear_output\n",
        "import time\n",
        "\n",
        "# 영상 업로드\n",
        "#uploaded = files.upload()\n",
        "video_path = \"/content/강남대로 강남역 도로 드라이브 최근 밤거리 모습 입니다. [tEtWnGwwCEc].mp4\"\n",
        "\n",
        "# 영상 열기\n",
        "cap = cv2.VideoCapture(video_path)\n",
        "fps = cap.get(cv2.CAP_PROP_FPS)\n",
        "frame_count = int(cap.get(cv2.CAP_PROP_FRAME_COUNT))\n",
        "\n",
        "print(f\"📹 영상 정보: {frame_count}프레임, {fps:.2f}FPS\")\n",
        "print(\"🎬 차선 인식 시작! (Ctrl+C로 중단)\")\n",
        "\n",
        "frame_num = 0\n",
        "try:\n",
        "    while True:\n",
        "        ret, frame = cap.read()\n",
        "        if not ret:\n",
        "            print(\"📺 영상 재생 완료\")\n",
        "            break\n",
        "\n",
        "        # 1. 그레이스케일 변환\n",
        "        gray = cv2.cvtColor(frame, cv2.COLOR_BGR2GRAY)\n",
        "\n",
        "        # 2. 블러 → 에지(Canny) - 임계값 낮춤\n",
        "        blur = cv2.GaussianBlur(gray, (5, 5), 0)\n",
        "        edges = cv2.Canny(blur, 30, 100)  # 50,150 → 30,100\n",
        "\n",
        "        # 3. ROI 설정 - 하단 30%\n",
        "        height, width = edges.shape\n",
        "        mask = np.zeros_like(edges)\n",
        "        polygon = np.array([[\n",
        "            (int(width * 0.1), height),            # 왼쪽 아래\n",
        "            (int(width * 0.9), height),            # 오른쪽 아래\n",
        "            (int(width * 0.6), int(height * 0.7)), # 오른쪽 위 (70% 지점)\n",
        "            (int(width * 0.4), int(height * 0.7))  # 왼쪽 위 (70% 지점)\n",
        "        ]])\n",
        "        cv2.fillPoly(mask, polygon, 255)\n",
        "        roi = cv2.bitwise_and(edges, mask)\n",
        "\n",
        "        # 4. Hough Transform으로 직선 검출 - 파라미터 완화\n",
        "        lines = cv2.HoughLinesP(roi, 2, np.pi / 180,\n",
        "                               threshold=30,      # 50 → 30\n",
        "                               minLineLength=30,  # 40 → 30\n",
        "                               maxLineGap=80)     # 50 → 80\n",
        "\n",
        "        # 5. 원본 프레임에 선 그리기\n",
        "        line_image = frame.copy()\n",
        "        if lines is not None:\n",
        "            for line in lines:\n",
        "                x1, y1, x2, y2 = line[0]\n",
        "                cv2.line(line_image, (x1, y1), (x2, y2), (0, 255, 0), 5)\n",
        "\n",
        "        # 6. 결과 출력\n",
        "        clear_output(wait=True)\n",
        "        plt.figure(figsize=(12, 6))\n",
        "        plt.subplot(1, 2, 1)\n",
        "        plt.imshow(cv2.cvtColor(frame, cv2.COLOR_BGR2RGB))\n",
        "        plt.title(f\"원본 프레임 {frame_num}\")\n",
        "        plt.axis('off')\n",
        "\n",
        "        plt.subplot(1, 2, 2)\n",
        "        plt.imshow(cv2.cvtColor(line_image, cv2.COLOR_BGR2RGB))\n",
        "        plt.title(f\"차선 인식 결과 ({len(lines) if lines is not None else 0}개)\")\n",
        "        plt.axis('off')\n",
        "        plt.show()\n",
        "\n",
        "        frame_num += 1\n",
        "        time.sleep(10)  # 10초마다 이걸 바꿔본다.\n",
        "\n",
        "except KeyboardInterrupt:\n",
        "    print(\"\\n⏹️ 재생 중단\")\n",
        "\n",
        "cap.release()"
      ]
    }
  ]
}